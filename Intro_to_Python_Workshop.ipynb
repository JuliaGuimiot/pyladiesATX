{
  "nbformat": 4,
  "nbformat_minor": 0,
  "metadata": {
    "colab": {
      "name": "Intro to Python Workshop.ipynb",
      "provenance": [],
      "collapsed_sections": [],
      "toc_visible": true,
      "include_colab_link": true
    },
    "kernelspec": {
      "name": "python3",
      "display_name": "Python 3"
    }
  },
  "cells": [
    {
      "cell_type": "markdown",
      "metadata": {
        "id": "view-in-github",
        "colab_type": "text"
      },
      "source": [
        "<a href=\"https://colab.research.google.com/github/jguimiot/pyladiesatx/blob/master/Intro_to_Python_Workshop.ipynb\" target=\"_parent\"><img src=\"https://colab.research.google.com/assets/colab-badge.svg\" alt=\"Open In Colab\"/></a>"
      ]
    },
    {
      "cell_type": "markdown",
      "metadata": {
        "id": "trnbnHHjqLGv",
        "colab_type": "text"
      },
      "source": [
        "# A Brief Introduction into Python!\n",
        "\n",
        "\n",
        "### Agenda\n",
        "1. Welcome, Introduction, and Announcements\n",
        "2. Jupyter Notebook walkthough: concepts and code snippets that do something\n",
        "3. Coding Practice\n",
        "4. Suggested Practice and Resources\n",
        "\n",
        "\n",
        "\n",
        "\n"
      ]
    },
    {
      "cell_type": "markdown",
      "metadata": {
        "id": "bcSp5wEZ2laz",
        "colab_type": "text"
      },
      "source": [
        "# Welcome to the Workshop! \n",
        "\n",
        "## PyLadies - an international mentorship group with a focus on helping more women become active participants and leaders in the Python open-source community. Our mission is to promote, educate and advance a diverse Python community through outreach, education, conferences, events and social gatherings.\n",
        "\n",
        "## PyLadies also aims to provide a friendly support network for women and a bridge to the larger Python world. Anyone with an interest in Python is [encouraged to participate!](https://https://pyladies.com/)\n",
        "\n",
        "## We will be using the browser-based notebook to code this morning. The resources list at the end of the notebook includes some links to different resources if you'd like to install Python locally, or a particular distribution of Python.  \n",
        "\n",
        "## A note about notebooks: code cells must be run in order! Comments are indicated with a `#`"
      ]
    },
    {
      "cell_type": "markdown",
      "metadata": {
        "id": "hRdZ0X77YC_p",
        "colab_type": "text"
      },
      "source": [
        "# Concepts and Code\n",
        "## Python - a high level programming language that can be used for object-oriented or functional programming. Python is a powerful and useful language across many domains! There is a large and passionate community working with Python, so you can get up and running quickly.  \n",
        "\n",
        "### Basic Data Types, Variable assigment, and Duck Typing:\n",
        "\n",
        "There are four basic data types in Python:\n",
        "\n",
        "- integers\n",
        "- floating point numbers\n",
        "- booleans\n",
        "- strings\n",
        "\n",
        "Variables can be instantiated of any type using the `=` assignment operator.  Python is a dynamically typed language, so the syntax for declaring variables is `variable_name = variable_value`\n",
        "\n",
        "In Python, variable names:\n",
        "- should be descriptive about the value\n",
        "- should not use leading numbers\n",
        "- should not use spaces, but underscores '_'\n",
        "- should not use uppercase letters\n",
        "- should not use [keywords](https://www.pythonforbeginners.com/basics/keywords-in-python)\n",
        "\n",
        "### Built-in functions\n",
        "Functions allow us to combine statements in order to repeatedly perform computations.  We name functions so that we can call or invoke them when needed.  \n",
        "\n",
        "Some functions are so fundamental and useful that they are built-in to Python.  No matter what version of Python you have, or the environment you're coding in, you can invoke built-in functions. \n",
        "\n",
        "Some functions, including the `print` function, take arguments - values that are given to the function inside the parentheses.  Below, the print function takes one argument.  Inside the function, the arguments are assigned to variables called parameters.  \n",
        "\n",
        "Note: built-in function names should be treated the same way as keywords.\n",
        "Python functions that can be invoked by name using the syntax `function()`.  Any arguments required should be included inside the parenthesis like this: `function(arguments)`\n",
        "\n",
        "some functions can be chained together - `function(function(arguments))`\n",
        "\n",
        "Let's get into some code using the `print()` function."
      ]
    },
    {
      "cell_type": "code",
      "metadata": {
        "id": "ERVCE_X_qGVB",
        "colab_type": "code",
        "colab": {}
      },
      "source": [
        "hi = 'Hello, world!'\n",
        "print(hi)"
      ],
      "execution_count": null,
      "outputs": []
    },
    {
      "cell_type": "code",
      "metadata": {
        "id": "4Rm2KNttdsxR",
        "colab_type": "code",
        "colab": {}
      },
      "source": [
        "my_int = 42\n",
        "my_float = 3.14\n",
        "my_bool = True\n",
        "my_string = 'What is the meaning of life?'\n",
        "\n",
        "\n",
        "print(my_string)\n",
        "print(my_int)\n",
        "print(my_float)\n",
        "print(my_bool)"
      ],
      "execution_count": null,
      "outputs": []
    },
    {
      "cell_type": "code",
      "metadata": {
        "id": "qF7PWW2HtqO9",
        "colab_type": "code",
        "colab": {}
      },
      "source": [
        "# create at least one variable of each type listed above, using descriptive names\n"
      ],
      "execution_count": null,
      "outputs": []
    },
    {
      "cell_type": "code",
      "metadata": {
        "id": "VoG9hA94kV71",
        "colab_type": "code",
        "colab": {}
      },
      "source": [
        "# An example of dynamic typing\n",
        "my_favorite = 101\n",
        "print(my_favorite)\n",
        "my_favorite = 'Chocolate'\n",
        "print(my_favorite)"
      ],
      "execution_count": null,
      "outputs": []
    },
    {
      "cell_type": "code",
      "metadata": {
        "id": "8JdVM3ADJbtu",
        "colab_type": "code",
        "colab": {}
      },
      "source": [
        "# the built-in type function will return the data type of a given variable\n",
        "type(my_favorite)"
      ],
      "execution_count": null,
      "outputs": []
    },
    {
      "cell_type": "markdown",
      "metadata": {
        "id": "JBdz9SNnxzgA",
        "colab_type": "text"
      },
      "source": [
        "## Writing Expressions\n",
        "We can use mathematical operators as follows:\n",
        "+, -, *, /, //, %\n",
        "\n",
        "Expressions using these operators will follow mathematical order of operations - PEMDAS\n"
      ]
    },
    {
      "cell_type": "code",
      "metadata": {
        "id": "XUF12wepgCzK",
        "colab_type": "code",
        "colab": {}
      },
      "source": [
        "int_number = 15\n",
        "float_number = 2.5\n",
        "print(int_number - float_number)"
      ],
      "execution_count": null,
      "outputs": []
    },
    {
      "cell_type": "code",
      "metadata": {
        "id": "JuM_AtnZtImh",
        "colab_type": "code",
        "colab": {}
      },
      "source": [
        "# Create an expression that evaluates to 100 using four of the operators above"
      ],
      "execution_count": null,
      "outputs": []
    },
    {
      "cell_type": "markdown",
      "metadata": {
        "id": "Sskq4niFyKso",
        "colab_type": "text"
      },
      "source": [
        "## Comparison Operators\n",
        "\n",
        "It is often useful to evaluate the relationships between different variables or data elements. We can do this by evaluating the truthiness of different expressions using the operators below:\n",
        "\n",
        "`x == y` | x is equal to y\n",
        "\n",
        "`x != y` | x is not equal to y\n",
        "\n",
        "`x > y`  | x is greater than y\n",
        "\n",
        "`x < y`  | x is less than y\n",
        "\n",
        "`x >= y` | x is greater than or equal to y\n",
        "\n",
        "`x <= y` | x is less than or equal to y\n",
        "\n",
        "x `is` y | x is the same is y\n",
        "\n",
        "x `is not` y | x is not the same as y\n",
        "\n",
        "x `is in` y | x is found in y\n",
        "\n",
        "x `is not in` y | x is not found in y"
      ]
    },
    {
      "cell_type": "markdown",
      "metadata": {
        "id": "EYDEL1gSzr7r",
        "colab_type": "text"
      },
      "source": [
        "#### Logical Operators\n",
        "\n",
        "`and` - both conditions are true  \n",
        "`or` - either condition is true  \n",
        "`not`- a condition is false  "
      ]
    },
    {
      "cell_type": "markdown",
      "metadata": {
        "id": "umAlvBoLqZbZ",
        "colab_type": "text"
      },
      "source": [
        "## Strings\n",
        "Because they are highly utilized and are unique, strings merit a special mention  Note: the `+` operator will concatenate strings, as shown below."
      ]
    },
    {
      "cell_type": "code",
      "metadata": {
        "id": "xi79BBSdqvUV",
        "colab_type": "code",
        "colab": {
          "base_uri": "https://localhost:8080/",
          "height": 34
        },
        "outputId": "33dd82c9-8cee-403e-b787-c17a991ebc93"
      },
      "source": [
        "string_one = 'con'\n",
        "string_two = 'cat'\n",
        "string_three = 'en'\n",
        "string_four = 'ate'\n",
        "whole_string = string_one + string_two + string_three + string_four\n",
        "print(whole_string)"
      ],
      "execution_count": null,
      "outputs": [
        {
          "output_type": "stream",
          "text": [
            "concatenate\n"
          ],
          "name": "stdout"
        }
      ]
    },
    {
      "cell_type": "code",
      "metadata": {
        "id": "rGta58F3s9iT",
        "colab_type": "code",
        "colab": {}
      },
      "source": [
        "# Create a string with the value of your name, and print it\n"
      ],
      "execution_count": null,
      "outputs": []
    },
    {
      "cell_type": "code",
      "metadata": {
        "id": "ifTSA1Bgxx7W",
        "colab_type": "code",
        "colab": {
          "base_uri": "https://localhost:8080/",
          "height": 34
        },
        "outputId": "9e788682-7c8f-49af-8d14-282cb5a57c1c"
      },
      "source": [
        "# experiment with some other operators.  Can * be used with a string?\n",
        "my_letter = 'm'\n",
        "print(my_letter*10)"
      ],
      "execution_count": null,
      "outputs": [
        {
          "output_type": "stream",
          "text": [
            "mmmmmmmmmm\n"
          ],
          "name": "stdout"
        }
      ]
    },
    {
      "cell_type": "markdown",
      "metadata": {
        "id": "gyFZRQdwrM2L",
        "colab_type": "text"
      },
      "source": [
        "Strings can consist of a single word, or a phrase with spaces, numbers, or punctuation, as long as the string is declared inside of either single or double quotes.  The elements inside a string are immuteable, but can be appended.\n",
        "\n",
        "Strings are considered a sequence in Python, which means that we can use an index number to refer to each element of the string based on it's order, starting from 0.  This is really useful for string manipulation.  We use the format `string[index]` to refer to a specific index.\n",
        "\n",
        "Keep in mind that the first letter of the string is in position 0, and if you put in a number that is longer than the length of the string - 1, you will get an index out of bounds error.\n",
        "\n",
        "The len() function will help us to determine the length of a string for indexing."
      ]
    },
    {
      "cell_type": "code",
      "metadata": {
        "id": "XE9oKdHCrzjz",
        "colab_type": "code",
        "colab": {
          "base_uri": "https://localhost:8080/",
          "height": 51
        },
        "outputId": "c0d4836e-cd5a-4bba-94b7-752174f0ea7b"
      },
      "source": [
        "print(len(whole_string))\n",
        "print(whole_string[0])"
      ],
      "execution_count": null,
      "outputs": [
        {
          "output_type": "stream",
          "text": [
            "11\n",
            "c\n"
          ],
          "name": "stdout"
        }
      ]
    },
    {
      "cell_type": "markdown",
      "metadata": {
        "id": "2EoXk0yIuOt9",
        "colab_type": "text"
      },
      "source": [
        "We can **slice** a string to only print certain elements using a : inside the index brackets.  Be aware that the first index is included in the slice, but the last index is not."
      ]
    },
    {
      "cell_type": "code",
      "metadata": {
        "id": "VQvwctSYvHfi",
        "colab_type": "code",
        "colab": {
          "base_uri": "https://localhost:8080/",
          "height": 34
        },
        "outputId": "c1da79c2-cdf2-4517-a531-369aadd6b8ff"
      },
      "source": [
        "my_name = \"Julia\"\n",
        "print(my_name[1:3])"
      ],
      "execution_count": null,
      "outputs": [
        {
          "output_type": "stream",
          "text": [
            "ul\n"
          ],
          "name": "stdout"
        }
      ]
    },
    {
      "cell_type": "markdown",
      "metadata": {
        "id": "gakinCA50jnE",
        "colab_type": "text"
      },
      "source": [
        "## Control Structures\n",
        "\n",
        "To write Python scripts with the most utility, we need to use **conditional statements** to check the status of a condition, and execute particular expressions or statements accordingly.  \n",
        "\n",
        "Python uses minimal punctuation compared to other languages, but there are a few rules:\n",
        "- control structures like `if` statements, `while` loops, and `for` loops are defined using the key word for each with the relevant condition, followed by a colon\n",
        "- the lines containing logic to execute in each condition should be indented 4 spaces.\n",
        "- the python interpreter will display an indentation error if there are any issues\n",
        "- control structures can be nested and chained\n",
        "\n",
        "#### If statements:\n",
        "If a condition is satisfied, execute the code block indented underneath.\n"
      ]
    },
    {
      "cell_type": "code",
      "metadata": {
        "id": "7sQ7YZqN1fEP",
        "colab_type": "code",
        "colab": {
          "base_uri": "https://localhost:8080/",
          "height": 34
        },
        "outputId": "5f3fae7a-fdac-4656-9290-6bdcd48c661c"
      },
      "source": [
        "current_day = 19\n",
        "if current_day > 15:\n",
        "    print('The month is almost over.')"
      ],
      "execution_count": null,
      "outputs": [
        {
          "output_type": "stream",
          "text": [
            "The month is almost over.\n"
          ],
          "name": "stdout"
        }
      ]
    },
    {
      "cell_type": "markdown",
      "metadata": {
        "id": "fvBi0rSI2LsA",
        "colab_type": "text"
      },
      "source": [
        "There is also the option to include `elif` (creating a 'chain' of conditions) which means else if,  and `else` execution alongside your `if` statement.\n",
        "\n",
        "What will be the output of the code below?"
      ]
    },
    {
      "cell_type": "code",
      "metadata": {
        "id": "dmuQzvLK2XC3",
        "colab_type": "code",
        "colab": {
          "base_uri": "https://localhost:8080/",
          "height": 34
        },
        "outputId": "3db21282-a3d4-4c55-b85d-44900477663a"
      },
      "source": [
        "if current_day < 7:\n",
        "  print('It is the beginning of the month')\n",
        "elif current_day < 20:\n",
        "  print('It is the middle of the month')\n",
        "else:\n",
        "  print('It is the end of the month')"
      ],
      "execution_count": null,
      "outputs": [
        {
          "output_type": "stream",
          "text": [
            "It is the middle of the month\n"
          ],
          "name": "stdout"
        }
      ]
    },
    {
      "cell_type": "markdown",
      "metadata": {
        "id": "tHrSR_Lc8ebQ",
        "colab_type": "text"
      },
      "source": [
        "#### For Statements\n",
        "\n",
        "Python's for statement is different than other programming laguages. It can be considered a `for each` structure.  It allows us to iterate over the elemets of a string, or any sequence, in the order of that string."
      ]
    },
    {
      "cell_type": "code",
      "metadata": {
        "id": "r_1A48yY81la",
        "colab_type": "code",
        "colab": {
          "base_uri": "https://localhost:8080/",
          "height": 105
        },
        "outputId": "85b26f55-0813-4c17-81ae-de9724acbe63"
      },
      "source": [
        "for letter in my_name:\n",
        "  print(letter)"
      ],
      "execution_count": null,
      "outputs": [
        {
          "output_type": "stream",
          "text": [
            "J\n",
            "u\n",
            "l\n",
            "i\n",
            "a\n"
          ],
          "name": "stdout"
        }
      ]
    },
    {
      "cell_type": "markdown",
      "metadata": {
        "id": "rv8kYqAVHWJF",
        "colab_type": "text"
      },
      "source": [
        "#### While statements\n",
        "While a condition is met, the code block will execute.  What is wrong with the code below? How can you fix it?"
      ]
    },
    {
      "cell_type": "code",
      "metadata": {
        "id": "zzdiadQeO5PL",
        "colab_type": "code",
        "colab": {
          "base_uri": "https://localhost:8080/",
          "height": 34
        },
        "outputId": "22df1621-a6a1-420e-bd2e-a2daf31a083a"
      },
      "source": [
        "while current_day != 31:\n",
        "    print('It is not the last day of the month.') "
      ],
      "execution_count": null,
      "outputs": [
        {
          "output_type": "stream",
          "text": [
            "It is not the last day of the month.\n"
          ],
          "name": "stdout"
        }
      ]
    },
    {
      "cell_type": "markdown",
      "metadata": {
        "id": "ird7W39UYhSq",
        "colab_type": "text"
      },
      "source": [
        "## Built-in Data Structures in Python\n",
        "\n",
        "There are several data structures that will be useful in storing, organizing, and managing data so that it can be easily modified or accessed.  \n",
        "The data structures we will work with today include:\n",
        "- lists - declared with square brackets `[]`, lists are sequences containing elements of any data type or structure. Lists are mutable, and can be accessed by index `list_name[index]`\n",
        "- sets - declared with parentheses `()`, sets are sequences containing elements of any data type or structure.  Sets are immutable, and can only contain unique elements. They can be accessed by index `set_name[index]`\n",
        "- dictionaries - declared with curly brackets `{}`, dictionaries are a mapping of key-value pairs.  The key will point to a specific value irrespective of its position in the data structure.  Python dictionaries are unordered, but can be accessed by key using the `dictionary_name[key_name]` format\n",
        "\n",
        "\n",
        "Note - iterating over a list or set is the same as iterating over a string, but for dictionaries we can use the built-in `.items()` function to unpack the key value pairs and iterate through the structure easily."
      ]
    },
    {
      "cell_type": "code",
      "metadata": {
        "id": "UmHM9WoLY40f",
        "colab_type": "code",
        "colab": {}
      },
      "source": [
        "example_list = ['lists', 'sets', 'dictionaries', 'csv', 'json']\n",
        "example_set = (\"only\", \"unique\", \"values\")\n",
        "example_dict = {'Women Who Code': 'Happy Hackathon!', 'Virtual': 'The type of event'}"
      ],
      "execution_count": null,
      "outputs": []
    },
    {
      "cell_type": "code",
      "metadata": {
        "id": "SNXXWe4FbYR5",
        "colab_type": "code",
        "colab": {}
      },
      "source": [
        "for item in example_list:\n",
        "  print(item)"
      ],
      "execution_count": null,
      "outputs": []
    },
    {
      "cell_type": "code",
      "metadata": {
        "id": "vYrr-5Qwbfnc",
        "colab_type": "code",
        "colab": {}
      },
      "source": [
        "for key, value in example_dict.items():\n",
        "  print(\"{}: {}\".format(key, value))"
      ],
      "execution_count": null,
      "outputs": []
    },
    {
      "cell_type": "markdown",
      "metadata": {
        "id": "gvb9DJGWcVXi",
        "colab_type": "text"
      },
      "source": [
        "## Now that we know the basics, let's see some real-world examples.  What can we do with Python out of the box?\n",
        "\n",
        "One common use for Python is to read and write data to a file.\n",
        "\n",
        "Context managers allow us to do this easily. We use the `with` keyword and the `open` function to specify the file name and the mode, and then we can jump right into our code.  The context manager will save and close the file when the code is finished executing.\n",
        "\n"
      ]
    },
    {
      "cell_type": "code",
      "metadata": {
        "id": "JOl2hRko3aDn",
        "colab_type": "code",
        "colab": {}
      },
      "source": [
        "data = \"But soft what light through yonder window breaks\\nIt is the east and Juliet is the sun\\nArise fair sun and kill the envious moon\\nWho is already sick and pale with grief\\nThat thou her maid art far more fair than *she*\\n\"\n",
        "\n",
        "with open(\"romeo.txt\", \"w\") as text_file:\n",
        "    text_file.write(data)"
      ],
      "execution_count": null,
      "outputs": []
    },
    {
      "cell_type": "code",
      "metadata": {
        "id": "5mJKCSOwhwTB",
        "colab_type": "code",
        "colab": {
          "base_uri": "https://localhost:8080/",
          "height": 119
        },
        "outputId": "00d2fc3a-cea8-4be5-9926-7da8f9faa640"
      },
      "source": [
        "with open(\"romeo.txt\", 'r') as text_file:\n",
        "  print(text_file.read())"
      ],
      "execution_count": null,
      "outputs": [
        {
          "output_type": "stream",
          "text": [
            "But soft what light through yonder window breaks\n",
            "It is the east and Juliet is the sun\n",
            "Arise fair sun and kill the envious moon\n",
            "Who is already sick and pale with grief\n",
            "That thou her maid art far more fair than *she*\n",
            "\n"
          ],
          "name": "stdout"
        }
      ]
    },
    {
      "cell_type": "code",
      "metadata": {
        "id": "KA9EE54Tj4Ii",
        "colab_type": "code",
        "colab": {}
      },
      "source": [
        "import csv\n",
        "with open('characters.csv', newline='') as csvfile:\n",
        "    data = csv.reader(csvfile, delimiter=',', quotechar='|')\n",
        "    for row in data:\n",
        "        print(row)\n",
        "        # print(\"{} {}\".format(row[0], row[6]))"
      ],
      "execution_count": null,
      "outputs": []
    },
    {
      "cell_type": "code",
      "metadata": {
        "id": "_4YJEIqbj4Zh",
        "colab_type": "code",
        "colab": {}
      },
      "source": [
        "import json\n",
        "import csv\n",
        "\n",
        "characters = {}\n",
        "\n",
        "with open('characters.csv', newline='') as csvfile:\n",
        "    data = csv.reader(csvfile, delimiter=',', quotechar='|')\n",
        "    for row in data:\n",
        "        name = row[0]\n",
        "        characters[name] = {\"birth_year\": row[6]}\n",
        "\n",
        "# write the csv file to a dictionary character name: birth year\n",
        "with open('character_birth_year.json', 'w') as f:\n",
        "    json.dump(characters, f, indent=4, default=str)\n"
      ],
      "execution_count": 5,
      "outputs": []
    },
    {
      "cell_type": "markdown",
      "metadata": {
        "id": "8wrTnD56yTHx",
        "colab_type": "text"
      },
      "source": [
        "## Practice from *[Python 4 Everybody](http://do1.dr-chuck.com/pythonlearn/EN_us/pythonlearn.pdf)*\n",
        "\n",
        "### Calculate Hourly Pay\n",
        "Write a control structure to calculate the total_pay, including time and a half pay for overtime for an hourly worker who is paid $15 per hour and worked 47 hours this week. Then, see if you can define a function that can calculate pay when the pay rate and hours worked are passed in to the function as arguments."
      ]
    },
    {
      "cell_type": "code",
      "metadata": {
        "id": "xlygRixXydxs",
        "colab_type": "code",
        "colab": {}
      },
      "source": [
        "# insert your code here. Calculate the number of hours of overtime, then the overtime pay due,\n",
        "# then the regular pay due"
      ],
      "execution_count": null,
      "outputs": []
    },
    {
      "cell_type": "markdown",
      "metadata": {
        "id": "RUwV4Qc5ywJK",
        "colab_type": "text"
      },
      "source": [
        "## Practice from *[Automate the Boring Stuff](https://automatetheboringstuff.com/#toc)*\n",
        "\n",
        "### Adding Bullets to Wiki Markup\n",
        "When editing a Wikipedia article, you can create a bulleted list by putting each list item on its own line and placing a star in front. But say you have a really large list that you want to add bullet points to. You could just type those stars at the beginning of each line, one by one. Or you could automate this task with a short Python script.\n",
        "\n",
        "The bulletPointAdder.py script will get the text from the clipboard, add a star and space to the beginning of each line, and then paste this new text to the clipboard. For example, if I copied the following text (for the Wikipedia article “List of Lists of Lists”) to the clipboard:\n",
        "\n",
        "\n",
        "Lists of animals\n",
        "Lists of aquarium life\n",
        "Lists of biologists by author abbreviationWiki\n",
        "Lists of cultivars\n",
        "and then ran the bulletPointAdder.py program, the clipboard would then contain the following:\n",
        "\n",
        "\n",
        "* Lists of animals\n",
        "* Lists of aquarium life\n",
        "* Lists of biologists by author abbreviation\n",
        "* Lists of cultivars\n",
        "\n",
        "\n",
        "#### Lists\n",
        "For this project, it will be helpful to know that there is a List data type in Python, assigned as my_list = [ ], that can contain any of the other data types we have discussed, including nested lists.\n",
        "so, the list of lists above would look like:\n",
        "\n"
      ]
    },
    {
      "cell_type": "code",
      "metadata": {
        "id": "_4nScLuuJBWu",
        "colab_type": "code",
        "colab": {}
      },
      "source": [
        "wiki_list = ['Lists of animals', 'Lists of aquarium life', 'Lists of biologists by author abbreviation', 'Lists of cultivars']"
      ],
      "execution_count": null,
      "outputs": []
    },
    {
      "cell_type": "markdown",
      "metadata": {
        "id": "fwe7tFJxJbfg",
        "colab_type": "text"
      },
      "source": [
        "Lists are sequences, just like strings, and you can use many of the same techniques to iterate over them.  If you wanted to display the second element of the list, you could do so:"
      ]
    },
    {
      "cell_type": "code",
      "metadata": {
        "id": "Y7xjagL7Jnwj",
        "colab_type": "code",
        "colab": {}
      },
      "source": [
        "wiki_list[1]"
      ],
      "execution_count": null,
      "outputs": []
    },
    {
      "cell_type": "markdown",
      "metadata": {
        "id": "JeOllcKTJ77X",
        "colab_type": "text"
      },
      "source": [
        "## Resources:\n",
        "\n",
        "[Resources from Python](https://docs.python.org/3/tutorial/index.html)\n",
        "\n",
        "PyCon [talks](https://www.youtube.com/watch?v=OSGv2VnC0go) of all varieties\n",
        "\n",
        "[How to install Python on Mac or Windows](https://www.youtube.com/watch?v=YYXdXT2l-Gg&ab_channel=CoreySchafer) from Corey Schafer on YouTube\n",
        "\n",
        "[The HitchHikers Guide to Python - how to install Python](https://docs.python-guide.org/starting/installation/)\n",
        "\n",
        "[MIT OpenCourseWare](https://ocw.mit.edu/courses/electrical-engineering-and-computer-science/6-0001-introduction-to-computer-science-and-programming-in-python-fall-2016/) Intro to CS and Programming in Python\n",
        "\n",
        "[Project Euler](https://projecteuler.net/)\n",
        "\n",
        "[Rosetta Code](https://http://www.rosettacode.org/wiki/Rosetta_Code)\n",
        "\n",
        "Practice platforms like [leet code](https://leetcode.com/) or [hacker rank](https://www.hackerrank.com/)"
      ]
    }
  ]
}